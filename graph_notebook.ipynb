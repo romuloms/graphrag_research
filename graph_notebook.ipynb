{
 "cells": [
  {
   "cell_type": "code",
   "execution_count": null,
   "id": "64a47728",
   "metadata": {},
   "outputs": [],
   "source": [
    "import os, time, asyncio, glob, csv\n",
    "import logging\n",
    "import sys\n",
    "\n",
    "from dotenv import load_dotenv\n",
    "from llama_index.llms.google_genai import GoogleGenAI\n",
    "# from llama_index.core import Settings\n",
    "from llama_index.embeddings.google_genai import GoogleGenAIEmbedding\n",
    "\n",
    "import google.generativeai as genai\n",
    "\n",
    "from neo4j import GraphDatabase\n",
    "from neo4j_graphrag.experimental.pipeline.kg_builder import SimpleKGPipeline\n",
    "from neo4j_graphrag.llm import VertexAILLM\n",
    "from vertexai.generative_models import GenerationConfig\n",
    "from neo4j_graphrag.embeddings.vertexai import VertexAIEmbeddings\n",
    "from neo4j_graphrag.generation.prompts import ERExtractionTemplate"
   ]
  },
  {
   "cell_type": "code",
   "execution_count": 18,
   "id": "ff671ae3",
   "metadata": {},
   "outputs": [],
   "source": [
    "\n",
    "load_dotenv()\n",
    "logging.basicConfig(\n",
    "    stream=sys.stdout, level=logging.INFO\n",
    ")\n",
    "\n",
    "GEMINI_API_KEY = os.getenv(\"GEMINI_API_KEY\")"
   ]
  },
  {
   "cell_type": "code",
   "execution_count": 14,
   "id": "4c16db2e",
   "metadata": {},
   "outputs": [],
   "source": [
    "username = os.getenv(\"NEO4J_USERNAME\")\n",
    "password = os.getenv(\"NEO4J_PASSWORD\")\n",
    "URI = os.getenv(\"NEO4J_URI\")\n",
    "database = os.getenv(\"NEO4J_DATABASE\")\n",
    "\n",
    "AUTH = (username, password)"
   ]
  },
  {
   "cell_type": "code",
   "execution_count": 15,
   "id": "17ddb38e",
   "metadata": {},
   "outputs": [
    {
     "name": "stdout",
     "output_type": "stream",
     "text": [
      "Connection established.\n"
     ]
    }
   ],
   "source": [
    "\n",
    "with GraphDatabase.driver(URI, auth=AUTH) as driver:\n",
    "    driver.verify_connectivity()\n",
    "    print(\"Connection established.\")"
   ]
  },
  {
   "cell_type": "code",
   "execution_count": 25,
   "id": "02a689cb",
   "metadata": {},
   "outputs": [],
   "source": [
    "class GeminiLLM:\n",
    "    def __init__(self, model_name=\"gemini-2.5-flash\", temperature=0.0):\n",
    "        api_key = os.environ.get(\"GEMINI_API_KEY\")\n",
    "        if not api_key:\n",
    "            raise ValueError(\"Set GEMINI_API_KEY in your environment\")\n",
    "        genai.configure(api_key=api_key)\n",
    "\n",
    "        self.model = genai.GenerativeModel(model_name)\n",
    "        self.temperature = temperature\n",
    "\n",
    "    def invoke(self, prompt: str) -> str:\n",
    "        response = self.model.generate_content(\n",
    "            prompt,\n",
    "            generation_config={\"temperature\": self.temperature},\n",
    "        )\n",
    "        return response.text"
   ]
  },
  {
   "cell_type": "code",
   "execution_count": 29,
   "id": "5afa4058",
   "metadata": {},
   "outputs": [],
   "source": [
    "class GeminiEmbeddings:\n",
    "    def __init__(self, model_name=\"text-embedding-004\", task_type=\"retrieval_document\"):\n",
    "        api_key = os.environ.get(\"GEMINI_API_KEY\")\n",
    "        if not api_key:\n",
    "            raise ValueError(\"Set GEMINI_API_KEY in your environment\")\n",
    "        genai.configure(api_key=api_key)\n",
    "\n",
    "        self.model_name = model_name\n",
    "        self.task_type = task_type\n",
    "\n",
    "    def embed(self, text: str):\n",
    "        \"\"\"Return embedding vector for a single string.\"\"\"\n",
    "        result = genai.embed_content(\n",
    "            model=self.model_name,\n",
    "            content=text,\n",
    "            task_type=self.task_type,\n",
    "        )\n",
    "        return result[\"embedding\"]\n",
    "\n",
    "    def embed_documents(self, texts: list[str]):\n",
    "        \"\"\"Return embeddings for a list of documents.\"\"\"\n",
    "        return [self.embed(t) for t in texts]"
   ]
  },
  {
   "cell_type": "code",
   "execution_count": 44,
   "id": "13d2022b",
   "metadata": {},
   "outputs": [
    {
     "name": "stdout",
     "output_type": "stream",
     "text": [
      "INFO:httpx:HTTP Request: GET https://generativelanguage.googleapis.com/v1beta/models/gemini-2.0-flash \"HTTP/1.1 200 OK\"\n"
     ]
    }
   ],
   "source": [
    "llm = GoogleGenAI(\n",
    "    model=\"gemini-2.0-flash\",\n",
    "    api_key=GEMINI_API_KEY\n",
    ")\n",
    "embedder = GoogleGenAIEmbedding(api_key=GEMINI_API_KEY)"
   ]
  },
  {
   "cell_type": "code",
   "execution_count": 31,
   "id": "607a2bbd",
   "metadata": {},
   "outputs": [
    {
     "name": "stdout",
     "output_type": "stream",
     "text": [
      "768 [-0.012383316, -0.010943109, -0.064880304, -0.019954382, -0.0056928312]\n",
      "2 768\n"
     ]
    }
   ],
   "source": [
    "embeddings = GeminiEmbeddings()\n",
    "\n",
    "vec = embeddings.embed(\"Graph databases are great for RAG.\")\n",
    "print(len(vec), vec[:5])  # dimension size + first few numbers\n",
    "\n",
    "docs = [\"Neo4j is a graph database.\", \"Gemini is a Google LLM.\"]\n",
    "vecs = embeddings.embed_documents(docs)\n",
    "print(len(vecs), len(vecs[0]))\n"
   ]
  },
  {
   "cell_type": "code",
   "execution_count": 39,
   "id": "3acbb48f",
   "metadata": {},
   "outputs": [],
   "source": [
    "entities = [\n",
    "    {\"label\": \"Person\", \"properties\": [{\"name\": \"name\", \"type\": \"STRING\"}]},\n",
    "    {\"label\": \"House\", \"properties\": [{\"name\": \"name\", \"type\": \"STRING\"}]},\n",
    "    {\"label\": \"Planet\", \"properties\": [{\"name\": \"name\", \"type\": \"STRING\"}]}\n",
    "]\n",
    "\n",
    "relations = [\n",
    "    {\"label\": \"PARENT_OF\", \"source\": \"Person\", \"target\": \"Person\"},\n",
    "    {\"label\": \"HEIR_OF\", \"source\": \"Person\", \"target\": \"House\"},\n",
    "    {\"label\": \"RULES\", \"source\": \"House\", \"target\": \"Planet\"},\n",
    "]"
   ]
  },
  {
   "cell_type": "code",
   "execution_count": 45,
   "id": "347377af",
   "metadata": {},
   "outputs": [
    {
     "ename": "PipelineDefinitionError",
     "evalue": "",
     "output_type": "error",
     "traceback": [
      "\u001b[31m---------------------------------------------------------------------------\u001b[39m",
      "\u001b[31mValidationError\u001b[39m                           Traceback (most recent call last)",
      "\u001b[36mFile \u001b[39m\u001b[32m~/Docs/ufs/pesquisa_graphrag/.venv/lib/python3.11/site-packages/neo4j_graphrag/experimental/pipeline/kg_builder.py:120\u001b[39m, in \u001b[36mSimpleKGPipeline.__init__\u001b[39m\u001b[34m(self, llm, driver, embedder, entities, relations, potential_schema, schema, from_pdf, text_splitter, pdf_loader, kg_writer, on_error, prompt_template, perform_entity_resolution, lexical_graph_config, neo4j_database)\u001b[39m\n\u001b[32m    119\u001b[39m \u001b[38;5;28;01mtry\u001b[39;00m:\n\u001b[32m--> \u001b[39m\u001b[32m120\u001b[39m     config = \u001b[43mSimpleKGPipelineConfig\u001b[49m\u001b[43m.\u001b[49m\u001b[43mmodel_validate\u001b[49m\u001b[43m(\u001b[49m\n\u001b[32m    121\u001b[39m \u001b[43m        \u001b[49m\u001b[38;5;28;43mdict\u001b[39;49m\u001b[43m(\u001b[49m\n\u001b[32m    122\u001b[39m \u001b[43m            \u001b[49m\u001b[43mllm_config\u001b[49m\u001b[43m=\u001b[49m\u001b[43mllm\u001b[49m\u001b[43m,\u001b[49m\n\u001b[32m    123\u001b[39m \u001b[43m            \u001b[49m\u001b[43mneo4j_config\u001b[49m\u001b[43m=\u001b[49m\u001b[43mdriver\u001b[49m\u001b[43m,\u001b[49m\n\u001b[32m    124\u001b[39m \u001b[43m            \u001b[49m\u001b[43membedder_config\u001b[49m\u001b[43m=\u001b[49m\u001b[43membedder\u001b[49m\u001b[43m,\u001b[49m\n\u001b[32m    125\u001b[39m \u001b[43m            \u001b[49m\u001b[43mentities\u001b[49m\u001b[43m=\u001b[49m\u001b[43mentities\u001b[49m\u001b[43m \u001b[49m\u001b[38;5;129;43;01mor\u001b[39;49;00m\u001b[43m \u001b[49m\u001b[43m[\u001b[49m\u001b[43m]\u001b[49m\u001b[43m,\u001b[49m\n\u001b[32m    126\u001b[39m \u001b[43m            \u001b[49m\u001b[43mrelations\u001b[49m\u001b[43m=\u001b[49m\u001b[43mrelations\u001b[49m\u001b[43m \u001b[49m\u001b[38;5;129;43;01mor\u001b[39;49;00m\u001b[43m \u001b[49m\u001b[43m[\u001b[49m\u001b[43m]\u001b[49m\u001b[43m,\u001b[49m\n\u001b[32m    127\u001b[39m \u001b[43m            \u001b[49m\u001b[43mpotential_schema\u001b[49m\u001b[43m=\u001b[49m\u001b[43mpotential_schema\u001b[49m\u001b[43m,\u001b[49m\n\u001b[32m    128\u001b[39m \u001b[43m            \u001b[49m\u001b[43mschema\u001b[49m\u001b[43m=\u001b[49m\u001b[43mschema\u001b[49m\u001b[43m,\u001b[49m\n\u001b[32m    129\u001b[39m \u001b[43m            \u001b[49m\u001b[43mfrom_pdf\u001b[49m\u001b[43m=\u001b[49m\u001b[43mfrom_pdf\u001b[49m\u001b[43m,\u001b[49m\n\u001b[32m    130\u001b[39m \u001b[43m            \u001b[49m\u001b[43mpdf_loader\u001b[49m\u001b[43m=\u001b[49m\u001b[43mComponentType\u001b[49m\u001b[43m(\u001b[49m\u001b[43mpdf_loader\u001b[49m\u001b[43m)\u001b[49m\u001b[43m \u001b[49m\u001b[38;5;28;43;01mif\u001b[39;49;00m\u001b[43m \u001b[49m\u001b[43mpdf_loader\u001b[49m\u001b[43m \u001b[49m\u001b[38;5;28;43;01melse\u001b[39;49;00m\u001b[43m \u001b[49m\u001b[38;5;28;43;01mNone\u001b[39;49;00m\u001b[43m,\u001b[49m\n\u001b[32m    131\u001b[39m \u001b[43m            \u001b[49m\u001b[43mkg_writer\u001b[49m\u001b[43m=\u001b[49m\u001b[43mComponentType\u001b[49m\u001b[43m(\u001b[49m\u001b[43mkg_writer\u001b[49m\u001b[43m)\u001b[49m\u001b[43m \u001b[49m\u001b[38;5;28;43;01mif\u001b[39;49;00m\u001b[43m \u001b[49m\u001b[43mkg_writer\u001b[49m\u001b[43m \u001b[49m\u001b[38;5;28;43;01melse\u001b[39;49;00m\u001b[43m \u001b[49m\u001b[38;5;28;43;01mNone\u001b[39;49;00m\u001b[43m,\u001b[49m\n\u001b[32m    132\u001b[39m \u001b[43m            \u001b[49m\u001b[43mtext_splitter\u001b[49m\u001b[43m=\u001b[49m\u001b[43mComponentType\u001b[49m\u001b[43m(\u001b[49m\u001b[43mtext_splitter\u001b[49m\u001b[43m)\u001b[49m\n\u001b[32m    133\u001b[39m \u001b[43m            \u001b[49m\u001b[38;5;28;43;01mif\u001b[39;49;00m\u001b[43m \u001b[49m\u001b[43mtext_splitter\u001b[49m\n\u001b[32m    134\u001b[39m \u001b[43m            \u001b[49m\u001b[38;5;28;43;01melse\u001b[39;49;00m\u001b[43m \u001b[49m\u001b[38;5;28;43;01mNone\u001b[39;49;00m\u001b[43m,\u001b[49m\n\u001b[32m    135\u001b[39m \u001b[43m            \u001b[49m\u001b[43mon_error\u001b[49m\u001b[43m=\u001b[49m\u001b[43mOnError\u001b[49m\u001b[43m(\u001b[49m\u001b[43mon_error\u001b[49m\u001b[43m)\u001b[49m\u001b[43m,\u001b[49m\n\u001b[32m    136\u001b[39m \u001b[43m            \u001b[49m\u001b[43mprompt_template\u001b[49m\u001b[43m=\u001b[49m\u001b[43mprompt_template\u001b[49m\u001b[43m,\u001b[49m\n\u001b[32m    137\u001b[39m \u001b[43m            \u001b[49m\u001b[43mperform_entity_resolution\u001b[49m\u001b[43m=\u001b[49m\u001b[43mperform_entity_resolution\u001b[49m\u001b[43m,\u001b[49m\n\u001b[32m    138\u001b[39m \u001b[43m            \u001b[49m\u001b[43mlexical_graph_config\u001b[49m\u001b[43m=\u001b[49m\u001b[43mlexical_graph_config\u001b[49m\u001b[43m,\u001b[49m\n\u001b[32m    139\u001b[39m \u001b[43m            \u001b[49m\u001b[43mneo4j_database\u001b[49m\u001b[43m=\u001b[49m\u001b[43mneo4j_database\u001b[49m\u001b[43m,\u001b[49m\n\u001b[32m    140\u001b[39m \u001b[43m        \u001b[49m\u001b[43m)\u001b[49m\n\u001b[32m    141\u001b[39m \u001b[43m    \u001b[49m\u001b[43m)\u001b[49m\n\u001b[32m    142\u001b[39m \u001b[38;5;28;01mexcept\u001b[39;00m (ValidationError, \u001b[38;5;167;01mValueError\u001b[39;00m) \u001b[38;5;28;01mas\u001b[39;00m e:\n",
      "\u001b[36mFile \u001b[39m\u001b[32m~/Docs/ufs/pesquisa_graphrag/.venv/lib/python3.11/site-packages/pydantic/main.py:705\u001b[39m, in \u001b[36mBaseModel.model_validate\u001b[39m\u001b[34m(cls, obj, strict, from_attributes, context, by_alias, by_name)\u001b[39m\n\u001b[32m    700\u001b[39m     \u001b[38;5;28;01mraise\u001b[39;00m PydanticUserError(\n\u001b[32m    701\u001b[39m         \u001b[33m'\u001b[39m\u001b[33mAt least one of `by_alias` or `by_name` must be set to True.\u001b[39m\u001b[33m'\u001b[39m,\n\u001b[32m    702\u001b[39m         code=\u001b[33m'\u001b[39m\u001b[33mvalidate-by-alias-and-name-false\u001b[39m\u001b[33m'\u001b[39m,\n\u001b[32m    703\u001b[39m     )\n\u001b[32m--> \u001b[39m\u001b[32m705\u001b[39m \u001b[38;5;28;01mreturn\u001b[39;00m \u001b[38;5;28;43mcls\u001b[39;49m\u001b[43m.\u001b[49m\u001b[43m__pydantic_validator__\u001b[49m\u001b[43m.\u001b[49m\u001b[43mvalidate_python\u001b[49m\u001b[43m(\u001b[49m\n\u001b[32m    706\u001b[39m \u001b[43m    \u001b[49m\u001b[43mobj\u001b[49m\u001b[43m,\u001b[49m\u001b[43m \u001b[49m\u001b[43mstrict\u001b[49m\u001b[43m=\u001b[49m\u001b[43mstrict\u001b[49m\u001b[43m,\u001b[49m\u001b[43m \u001b[49m\u001b[43mfrom_attributes\u001b[49m\u001b[43m=\u001b[49m\u001b[43mfrom_attributes\u001b[49m\u001b[43m,\u001b[49m\u001b[43m \u001b[49m\u001b[43mcontext\u001b[49m\u001b[43m=\u001b[49m\u001b[43mcontext\u001b[49m\u001b[43m,\u001b[49m\u001b[43m \u001b[49m\u001b[43mby_alias\u001b[49m\u001b[43m=\u001b[49m\u001b[43mby_alias\u001b[49m\u001b[43m,\u001b[49m\u001b[43m \u001b[49m\u001b[43mby_name\u001b[49m\u001b[43m=\u001b[49m\u001b[43mby_name\u001b[49m\n\u001b[32m    707\u001b[39m \u001b[43m\u001b[49m\u001b[43m)\u001b[49m\n",
      "\u001b[31mValidationError\u001b[39m: 4 validation errors for SimpleKGPipelineConfig\nllm_config.default.is-instance[LLMInterface]\n  Input should be an instance of LLMInterface [type=is_instance_of, input_value=GoogleGenAI(callback_mana...one, built_in_tool=None), input_type=GoogleGenAI]\n    For further information visit https://errors.pydantic.dev/2.11/v/is_instance_of\nllm_config.default.LLMConfig\n  Input should be a valid dictionary or instance of LLMConfig [type=model_type, input_value=GoogleGenAI(callback_mana...one, built_in_tool=None), input_type=GoogleGenAI]\n    For further information visit https://errors.pydantic.dev/2.11/v/model_type\nembedder_config.default.is-instance[Embedder]\n  Input should be an instance of Embedder [type=is_instance_of, input_value=GoogleGenAIEmbedding(mode...ry_exponential_base=2.0), input_type=GoogleGenAIEmbedding]\n    For further information visit https://errors.pydantic.dev/2.11/v/is_instance_of\nembedder_config.default.EmbedderConfig\n  Input should be a valid dictionary or instance of EmbedderConfig [type=model_type, input_value=GoogleGenAIEmbedding(mode...ry_exponential_base=2.0), input_type=GoogleGenAIEmbedding]\n    For further information visit https://errors.pydantic.dev/2.11/v/model_type",
      "\nThe above exception was the direct cause of the following exception:\n",
      "\u001b[31mPipelineDefinitionError\u001b[39m                   Traceback (most recent call last)",
      "\u001b[36mCell\u001b[39m\u001b[36m \u001b[39m\u001b[32mIn[45]\u001b[39m\u001b[32m, line 1\u001b[39m\n\u001b[32m----> \u001b[39m\u001b[32m1\u001b[39m pipeline = \u001b[43mSimpleKGPipeline\u001b[49m\u001b[43m(\u001b[49m\n\u001b[32m      2\u001b[39m \u001b[43m    \u001b[49m\u001b[43mllm\u001b[49m\u001b[43m=\u001b[49m\u001b[43mllm\u001b[49m\u001b[43m,\u001b[49m\n\u001b[32m      3\u001b[39m \u001b[43m    \u001b[49m\u001b[43mdriver\u001b[49m\u001b[43m=\u001b[49m\u001b[43mdriver\u001b[49m\u001b[43m,\u001b[49m\n\u001b[32m      4\u001b[39m \u001b[43m    \u001b[49m\u001b[43membedder\u001b[49m\u001b[43m=\u001b[49m\u001b[43membedder\u001b[49m\u001b[43m,\u001b[49m\n\u001b[32m      5\u001b[39m \u001b[43m    \u001b[49m\u001b[43mentities\u001b[49m\u001b[43m=\u001b[49m\u001b[43mentities\u001b[49m\u001b[43m,\u001b[49m\n\u001b[32m      6\u001b[39m \u001b[43m    \u001b[49m\u001b[43mrelations\u001b[49m\u001b[43m=\u001b[49m\u001b[43mrelations\u001b[49m\u001b[43m,\u001b[49m\n\u001b[32m      7\u001b[39m \u001b[43m    \u001b[49m\u001b[43mon_error\u001b[49m\u001b[43m=\u001b[49m\u001b[33;43m\"\u001b[39;49m\u001b[33;43mIGNORE\u001b[39;49m\u001b[33;43m\"\u001b[39;49m\u001b[43m,\u001b[49m\n\u001b[32m      8\u001b[39m \u001b[43m)\u001b[49m\n",
      "\u001b[36mFile \u001b[39m\u001b[32m~/Docs/ufs/pesquisa_graphrag/.venv/lib/python3.11/site-packages/neo4j_graphrag/experimental/pipeline/kg_builder.py:143\u001b[39m, in \u001b[36mSimpleKGPipeline.__init__\u001b[39m\u001b[34m(self, llm, driver, embedder, entities, relations, potential_schema, schema, from_pdf, text_splitter, pdf_loader, kg_writer, on_error, prompt_template, perform_entity_resolution, lexical_graph_config, neo4j_database)\u001b[39m\n\u001b[32m    120\u001b[39m     config = SimpleKGPipelineConfig.model_validate(\n\u001b[32m    121\u001b[39m         \u001b[38;5;28mdict\u001b[39m(\n\u001b[32m    122\u001b[39m             llm_config=llm,\n\u001b[32m   (...)\u001b[39m\u001b[32m    140\u001b[39m         )\n\u001b[32m    141\u001b[39m     )\n\u001b[32m    142\u001b[39m \u001b[38;5;28;01mexcept\u001b[39;00m (ValidationError, \u001b[38;5;167;01mValueError\u001b[39;00m) \u001b[38;5;28;01mas\u001b[39;00m e:\n\u001b[32m--> \u001b[39m\u001b[32m143\u001b[39m     \u001b[38;5;28;01mraise\u001b[39;00m PipelineDefinitionError() \u001b[38;5;28;01mfrom\u001b[39;00m\u001b[38;5;250m \u001b[39m\u001b[34;01me\u001b[39;00m\n\u001b[32m    145\u001b[39m \u001b[38;5;28mself\u001b[39m.runner = PipelineRunner.from_config(config)\n",
      "\u001b[31mPipelineDefinitionError\u001b[39m: "
     ]
    }
   ],
   "source": [
    "pipeline = SimpleKGPipeline(\n",
    "    llm=llm,\n",
    "    driver=driver,\n",
    "    embedder=embedder,\n",
    "    entities=entities,\n",
    "    relations=relations,\n",
    "    on_error=\"IGNORE\",\n",
    ")"
   ]
  }
 ],
 "metadata": {
  "kernelspec": {
   "display_name": ".venv",
   "language": "python",
   "name": "python3"
  },
  "language_info": {
   "codemirror_mode": {
    "name": "ipython",
    "version": 3
   },
   "file_extension": ".py",
   "mimetype": "text/x-python",
   "name": "python",
   "nbconvert_exporter": "python",
   "pygments_lexer": "ipython3",
   "version": "3.11.3"
  }
 },
 "nbformat": 4,
 "nbformat_minor": 5
}
